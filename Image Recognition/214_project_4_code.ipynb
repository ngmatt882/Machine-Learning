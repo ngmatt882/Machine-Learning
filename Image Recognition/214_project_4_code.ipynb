{
  "nbformat": 4,
  "nbformat_minor": 0,
  "metadata": {
    "colab": {
      "name": "214 project 4 code.ipynb",
      "provenance": [],
      "collapsed_sections": []
    },
    "kernelspec": {
      "name": "python3",
      "display_name": "Python 3"
    },
    "language_info": {
      "name": "python"
    },
    "accelerator": "GPU"
  },
  "cells": [
    {
      "cell_type": "code",
      "metadata": {
        "colab": {
          "base_uri": "https://localhost:8080/"
        },
        "id": "AYSivPGk9K0z",
        "outputId": "65123797-f0a7-4665-da0a-b4122ec2319a"
      },
      "source": [
        "!pip install -q kaggle\n",
        "!mkdir -p ~/.kaggle\n",
        "!cp kaggle.json ~/.kaggle/\n",
        "!ls ~/.kaggle\n",
        "!chmod 600 /root/.kaggle/kaggle.json  # set permission"
      ],
      "execution_count": null,
      "outputs": [
        {
          "output_type": "stream",
          "name": "stdout",
          "text": [
            "kaggle.json\n"
          ]
        }
      ]
    },
    {
      "cell_type": "code",
      "metadata": {
        "colab": {
          "base_uri": "https://localhost:8080/"
        },
        "id": "Yz_zkQ8f_C_c",
        "outputId": "4515346d-81be-4a4c-99db-5fcc365e5c37"
      },
      "source": [
        "!kaggle datasets download -d balamurugan1603/traffic-signs-train-val-split\n",
        "#!kaggle datasets download -d flo2607/traffic-signs-classification"
      ],
      "execution_count": null,
      "outputs": [
        {
          "output_type": "stream",
          "name": "stdout",
          "text": [
            "Downloading traffic-signs-train-val-split.zip to /content\n",
            " 78% 50.0M/64.4M [00:03<00:01, 11.1MB/s]\n",
            "100% 64.4M/64.4M [00:03<00:00, 21.3MB/s]\n"
          ]
        }
      ]
    },
    {
      "cell_type": "code",
      "metadata": {
        "id": "fyEnEt_x_GlF"
      },
      "source": [
        "!unzip traffic-signs-train-val-split.zip"
      ],
      "execution_count": null,
      "outputs": []
    },
    {
      "cell_type": "code",
      "metadata": {
        "id": "O7l-IbXX6Zjx"
      },
      "source": [
        "import tensorflow as tf\n",
        "\n",
        "from keras.models import Sequential\n",
        "\n",
        "from tensorflow.keras import datasets, layers, models\n",
        "import matplotlib.pyplot as plt\n",
        "from tensorflow.keras.preprocessing.image import ImageDataGenerator \n",
        "from tensorflow.keras.layers import Conv2D, Flatten, MaxPool2D, Dense, AveragePooling3D\n",
        "from tensorflow.keras.models import save_model\n",
        "from keras.callbacks import EarlyStopping"
      ],
      "execution_count": null,
      "outputs": []
    },
    {
      "cell_type": "code",
      "metadata": {
        "colab": {
          "base_uri": "https://localhost:8080/"
        },
        "id": "RrxCi__EFBsO",
        "outputId": "73068d3f-aa8a-4099-acba-5fc6e53a45a1"
      },
      "source": [
        "!ls"
      ],
      "execution_count": null,
      "outputs": [
        {
          "output_type": "stream",
          "name": "stdout",
          "text": [
            "conv2d_model.zip  labels.csv\t   sample_data\n",
            "extract.py\t  model_trained.p  traffic-signs-classification.zip\n",
            "kaggle.json\t  myData\n"
          ]
        }
      ]
    },
    {
      "cell_type": "code",
      "metadata": {
        "colab": {
          "base_uri": "https://localhost:8080/"
        },
        "id": "IID7UoAHG32N",
        "outputId": "04adc8a4-a81d-4b60-c531-7c789bd724fb"
      },
      "source": [
        "train_datagen = ImageDataGenerator(rescale=1./255\n",
        "                             ).flow_from_directory(\"/content/traffic signs split/train\",\n",
        "                                                                      target_size=(32, 32),\n",
        "                                                                      batch_size=32,\n",
        "                                                                      class_mode=\"categorical\")\n",
        "\n",
        "val_datagen = ImageDataGenerator(rescale=1./255).flow_from_directory(\"/content/traffic signs split/val\",\n",
        "                                                                     target_size=(32, 32),\n",
        "                                                                     batch_size=32,\n",
        "                                                                     class_mode=\"categorical\")"
      ],
      "execution_count": null,
      "outputs": [
        {
          "output_type": "stream",
          "name": "stdout",
          "text": [
            "Found 58510 images belonging to 43 classes.\n",
            "Found 14629 images belonging to 43 classes.\n"
          ]
        }
      ]
    },
    {
      "cell_type": "code",
      "metadata": {
        "id": "WMKQ9J5f_WXO",
        "colab": {
          "base_uri": "https://localhost:8080/"
        },
        "outputId": "35aa75a8-e43b-4542-edbe-13b52004c96c"
      },
      "source": [
        "model = models.Sequential();\n",
        "model.add(layers.Conv2D(32, (3, 3), activation='relu', input_shape=(32, 32, 3)))\n",
        "model.add(layers.AveragePooling2D())\n",
        "model.add(layers.Conv2D(16, (3, 3), activation='relu'))\n",
        "model.add(Flatten())\n",
        "model.add(Dense(100, activation=\"relu\"))\n",
        "model.add(Dense(43, activation=\"softmax\"))\n",
        "model.summary()"
      ],
      "execution_count": null,
      "outputs": [
        {
          "output_type": "stream",
          "name": "stdout",
          "text": [
            "Model: \"sequential_13\"\n",
            "_________________________________________________________________\n",
            " Layer (type)                Output Shape              Param #   \n",
            "=================================================================\n",
            " conv2d_25 (Conv2D)          (None, 30, 30, 32)        896       \n",
            "                                                                 \n",
            " average_pooling2d_4 (Averag  (None, 15, 15, 32)       0         \n",
            " ePooling2D)                                                     \n",
            "                                                                 \n",
            " conv2d_26 (Conv2D)          (None, 13, 13, 16)        4624      \n",
            "                                                                 \n",
            " flatten_6 (Flatten)         (None, 2704)              0         \n",
            "                                                                 \n",
            " dense_7 (Dense)             (None, 100)               270500    \n",
            "                                                                 \n",
            " dense_8 (Dense)             (None, 43)                4343      \n",
            "                                                                 \n",
            "=================================================================\n",
            "Total params: 280,363\n",
            "Trainable params: 280,363\n",
            "Non-trainable params: 0\n",
            "_________________________________________________________________\n"
          ]
        }
      ]
    },
    {
      "cell_type": "code",
      "metadata": {
        "colab": {
          "base_uri": "https://localhost:8080/"
        },
        "id": "dDRgo4IhGniC",
        "outputId": "b522ee86-6a2a-4300-eaca-5f42040f411f"
      },
      "source": [
        "model.compile(optimizer=\"adam\", loss=\"categorical_crossentropy\", metrics=[\"accuracy\"])\n",
        "es = EarlyStopping(monitor='val_loss', mode='min', verbose=100, patience=5)\n",
        "history = model.fit_generator(train_datagen, validation_data=val_datagen, epochs=9, verbose=100, callbacks=[es])"
      ],
      "execution_count": null,
      "outputs": [
        {
          "output_type": "stream",
          "name": "stderr",
          "text": [
            "/usr/local/lib/python3.7/dist-packages/ipykernel_launcher.py:3: UserWarning: `Model.fit_generator` is deprecated and will be removed in a future version. Please use `Model.fit`, which supports generators.\n",
            "  This is separate from the ipykernel package so we can avoid doing imports until\n"
          ]
        },
        {
          "output_type": "stream",
          "name": "stdout",
          "text": [
            "Epoch 1/9\n",
            "Epoch 2/9\n",
            "Epoch 3/9\n",
            "Epoch 4/9\n",
            "Epoch 5/9\n",
            "Epoch 6/9\n",
            "Epoch 7/9\n",
            "Epoch 8/9\n",
            "Epoch 9/9\n"
          ]
        }
      ]
    },
    {
      "cell_type": "code",
      "metadata": {
        "colab": {
          "base_uri": "https://localhost:8080/",
          "height": 295
        },
        "id": "8rpARqhZInjQ",
        "outputId": "cc2069dd-9dd8-48e4-9f6a-e87763bad33d"
      },
      "source": [
        "history_dict = history.history\n",
        "train_acc = history_dict['loss']\n",
        "val_acc = history_dict['val_loss']\n",
        "epochs = range(1, len(history_dict['loss'])+1)\n",
        "plt.plot(epochs, train_acc,'b', label='Training error')\n",
        "plt.plot(epochs, val_acc,'b', color=\"orange\", label='Validation error')\n",
        "plt.title('Training and Validation error')\n",
        "plt.xlabel('Epochs')\n",
        "plt.ylabel('Error')\n",
        "plt.legend()\n",
        "plt.show()"
      ],
      "execution_count": null,
      "outputs": [
        {
          "output_type": "display_data",
          "data": {
            "image/png": "[encoded data removed]",
            "text/plain": [
              "<Figure size 432x288 with 1 Axes>"
            ]
          },
          "metadata": {
            "needs_background": "light"
          }
        }
      ]
    },
    {
      "cell_type": "code",
      "metadata": {
        "colab": {
          "base_uri": "https://localhost:8080/"
        },
        "id": "6-UnLDQINwkA",
        "outputId": "7f9a6d8f-860e-4960-e833-9a65f669c6fc"
      },
      "source": [
        "history.history"
      ],
      "execution_count": null,
      "outputs": [
        {
          "output_type": "execute_result",
          "data": {
            "text/plain": [
              "{'accuracy': [0.9806870818138123,\n",
              "  0.9878140687942505,\n",
              "  0.9911126494407654,\n",
              "  0.9936250448226929,\n",
              "  0.9940181374549866,\n",
              "  0.9949410557746887,\n",
              "  0.9955562949180603,\n",
              "  0.9964108467102051,\n",
              "  0.996496319770813],\n",
              " 'loss': [0.07172726094722748,\n",
              "  0.044093094766139984,\n",
              "  0.03049568086862564,\n",
              "  0.02120758593082428,\n",
              "  0.021875154227018356,\n",
              "  0.017584888264536858,\n",
              "  0.014272334985435009,\n",
              "  0.01214026939123869,\n",
              "  0.011518659070134163],\n",
              " 'val_accuracy': [0.9794927835464478,\n",
              "  0.9859867095947266,\n",
              "  0.97416090965271,\n",
              "  0.9907717704772949,\n",
              "  0.9851664304733276,\n",
              "  0.9926857352256775,\n",
              "  0.9907034039497375,\n",
              "  0.9913186430931091,\n",
              "  0.9901565313339233],\n",
              " 'val_loss': [0.07810109108686447,\n",
              "  0.051939498633146286,\n",
              "  0.08907999843358994,\n",
              "  0.03851000592112541,\n",
              "  0.059217095375061035,\n",
              "  0.031100451946258545,\n",
              "  0.041916508227586746,\n",
              "  0.03748204559087753,\n",
              "  0.03937441483139992]}"
            ]
          },
          "metadata": {},
          "execution_count": 56
        }
      ]
    },
    {
      "cell_type": "code",
      "metadata": {
        "colab": {
          "base_uri": "https://localhost:8080/"
        },
        "id": "MybFon5OF9ns",
        "outputId": "067f2425-9b82-4d6f-8c72-5eb9a76849c8"
      },
      "source": [
        "save_model(model, \"2conv2d_model\")"
      ],
      "execution_count": null,
      "outputs": [
        {
          "output_type": "stream",
          "name": "stdout",
          "text": [
            "INFO:tensorflow:Assets written to: 2conv2d_model/assets\n"
          ]
        }
      ]
    }
  ]
}